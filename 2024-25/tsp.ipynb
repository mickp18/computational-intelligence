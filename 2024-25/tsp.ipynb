{
 "cells": [
  {
   "cell_type": "markdown",
   "metadata": {
    "vscode": {
     "languageId": "plaintext"
    }
   },
   "source": [
    "Copyright **`(c)`** 2024 Giovanni Squillero `<giovanni.squillero@polito.it>`  \n",
    "[`https://github.com/squillero/computational-intelligence`](https://github.com/squillero/computational-intelligence)  \n",
    "Free under certain conditions — see the [`license`](https://github.com/squillero/computational-intelligence/blob/master/LICENSE.md) for details.  "
   ]
  },
  {
   "cell_type": "code",
   "execution_count": 1,
   "metadata": {},
   "outputs": [],
   "source": [
    "import logging\n",
    "from itertools import combinations\n",
    "import pandas as pd\n",
    "import numpy as np\n",
    "import geopy.distance\n",
    "\n",
    "from icecream import ic\n",
    "\n",
    "logging.basicConfig(level=logging.DEBUG)"
   ]
  },
  {
   "cell_type": "markdown",
   "metadata": {},
   "source": [
    "## Lab2 - TSP\n",
    "\n",
    "https://www.wolframcloud.com/obj/giovanni.squillero/Published/Lab2-tsp.nb"
   ]
  },
  {
   "cell_type": "code",
   "execution_count": 2,
   "metadata": {},
   "outputs": [
    {
     "data": {
      "text/html": [
       "<div>\n",
       "<style scoped>\n",
       "    .dataframe tbody tr th:only-of-type {\n",
       "        vertical-align: middle;\n",
       "    }\n",
       "\n",
       "    .dataframe tbody tr th {\n",
       "        vertical-align: top;\n",
       "    }\n",
       "\n",
       "    .dataframe thead th {\n",
       "        text-align: right;\n",
       "    }\n",
       "</style>\n",
       "<table border=\"1\" class=\"dataframe\">\n",
       "  <thead>\n",
       "    <tr style=\"text-align: right;\">\n",
       "      <th></th>\n",
       "      <th>name</th>\n",
       "      <th>lat</th>\n",
       "      <th>lon</th>\n",
       "    </tr>\n",
       "  </thead>\n",
       "  <tbody>\n",
       "    <tr>\n",
       "      <th>0</th>\n",
       "      <td>Ancona</td>\n",
       "      <td>43.60</td>\n",
       "      <td>13.50</td>\n",
       "    </tr>\n",
       "    <tr>\n",
       "      <th>1</th>\n",
       "      <td>Andria</td>\n",
       "      <td>41.23</td>\n",
       "      <td>16.29</td>\n",
       "    </tr>\n",
       "    <tr>\n",
       "      <th>2</th>\n",
       "      <td>Bari</td>\n",
       "      <td>41.12</td>\n",
       "      <td>16.87</td>\n",
       "    </tr>\n",
       "    <tr>\n",
       "      <th>3</th>\n",
       "      <td>Bergamo</td>\n",
       "      <td>45.70</td>\n",
       "      <td>9.67</td>\n",
       "    </tr>\n",
       "    <tr>\n",
       "      <th>4</th>\n",
       "      <td>Bologna</td>\n",
       "      <td>44.50</td>\n",
       "      <td>11.34</td>\n",
       "    </tr>\n",
       "  </tbody>\n",
       "</table>\n",
       "</div>"
      ],
      "text/plain": [
       "      name    lat    lon\n",
       "0   Ancona  43.60  13.50\n",
       "1   Andria  41.23  16.29\n",
       "2     Bari  41.12  16.87\n",
       "3  Bergamo  45.70   9.67\n",
       "4  Bologna  44.50  11.34"
      ]
     },
     "execution_count": 2,
     "metadata": {},
     "output_type": "execute_result"
    }
   ],
   "source": [
    "cities = pd.read_csv('cities/italy.csv', header=None, names=['name', 'lat', 'lon'])\n",
    "cities.head()"
   ]
  },
  {
   "cell_type": "code",
   "execution_count": 3,
   "metadata": {},
   "outputs": [],
   "source": [
    "dist_matrix = np.zeros((len(cities), len(cities)))\n",
    "for c1, c2 in combinations(cities.itertuples(), 2):\n",
    "    dist_matrix[c1.Index, c2.Index] = dist_matrix[c2.Index, c1.Index] = geopy.distance.geodesic(\n",
    "        (c1.lat, c1.lon), (c2.lat, c2.lon)\n",
    "    ).km"
   ]
  },
  {
   "cell_type": "code",
   "execution_count": 4,
   "metadata": {},
   "outputs": [
    {
     "name": "stderr",
     "output_type": "stream",
     "text": [
      "DEBUG:root:step: Ancona -> Rimini (90.60km)\n",
      "DEBUG:root:step: Rimini -> Forlì (46.72km)\n",
      "DEBUG:root:step: Forlì -> Ravenna (26.46km)\n",
      "DEBUG:root:step: Ravenna -> Ferrara (66.67km)\n",
      "DEBUG:root:step: Ferrara -> Bologna (43.43km)\n",
      "DEBUG:root:step: Bologna -> Modena (37.29km)\n",
      "DEBUG:root:step: Modena -> Reggio nell'Emilia (23.94km)\n",
      "DEBUG:root:step: Reggio nell'Emilia -> Parma (26.94km)\n",
      "DEBUG:root:step: Parma -> Piacenza (57.65km)\n",
      "DEBUG:root:step: Piacenza -> Milan (60.65km)\n",
      "DEBUG:root:step: Milan -> Monza (14.51km)\n",
      "DEBUG:root:step: Monza -> Bergamo (33.92km)\n",
      "DEBUG:root:step: Bergamo -> Brescia (46.02km)\n",
      "DEBUG:root:step: Brescia -> Verona (61.42km)\n",
      "DEBUG:root:step: Verona -> Vicenza (44.70km)\n",
      "DEBUG:root:step: Vicenza -> Padua (30.13km)\n",
      "DEBUG:root:step: Padua -> Venice (36.07km)\n",
      "DEBUG:root:step: Venice -> Trieste (115.09km)\n",
      "DEBUG:root:step: Trieste -> Bolzano (209.68km)\n",
      "DEBUG:root:step: Bolzano -> Trento (49.94km)\n",
      "DEBUG:root:step: Trento -> Novara (206.69km)\n",
      "DEBUG:root:step: Novara -> Turin (84.46km)\n",
      "DEBUG:root:step: Turin -> Genoa (123.19km)\n",
      "DEBUG:root:step: Genoa -> Leghorn (146.37km)\n",
      "DEBUG:root:step: Leghorn -> Prato (74.02km)\n",
      "DEBUG:root:step: Prato -> Florence (17.17km)\n",
      "DEBUG:root:step: Florence -> Perugia (119.19km)\n",
      "DEBUG:root:step: Perugia -> Terni (63.64km)\n",
      "DEBUG:root:step: Terni -> Rome (76.54km)\n",
      "DEBUG:root:step: Rome -> Latina (56.84km)\n",
      "DEBUG:root:step: Latina -> Giugliano in Campania (124.45km)\n",
      "DEBUG:root:step: Giugliano in Campania -> Naples (11.15km)\n",
      "DEBUG:root:step: Naples -> Salerno (46.25km)\n",
      "DEBUG:root:step: Salerno -> Foggia (109.52km)\n",
      "DEBUG:root:step: Foggia -> Andria (67.42km)\n",
      "DEBUG:root:step: Andria -> Bari (50.18km)\n",
      "DEBUG:root:step: Bari -> Taranto (77.63km)\n",
      "DEBUG:root:step: Taranto -> Messina (293.02km)\n",
      "DEBUG:root:step: Messina -> Reggio di Calabria (12.48km)\n",
      "DEBUG:root:step: Reggio di Calabria -> Catania (84.28km)\n",
      "DEBUG:root:step: Catania -> Syracuse (51.23km)\n",
      "DEBUG:root:step: Syracuse -> Palermo (206.47km)\n",
      "DEBUG:root:step: Palermo -> Cagliari (390.28km)\n",
      "DEBUG:root:step: Cagliari -> Sassari (173.89km)\n",
      "DEBUG:root:step: Sassari -> Pescara (508.61km)\n",
      "DEBUG:root:step: Pescara -> Ancona (139.24km)\n",
      "INFO:root:result: Found a path of 46 steps, total length 4436.03km\n"
     ]
    }
   ],
   "source": [
    "visited = np.full(len(cities), False)\n",
    "dist = dist_matrix.copy()\n",
    "city = 0\n",
    "visited[city] = True\n",
    "tsp = list()\n",
    "tsp.append(int(city))\n",
    "while not np.all(visited):\n",
    "    dist[:, city] = np.inf\n",
    "    closest = np.argmin(dist[city])\n",
    "    logging.debug(\n",
    "        f\"step: {cities.at[city,'name']} -> {cities.at[closest,'name']} ({dist_matrix[city,closest]:.2f}km)\"\n",
    "    )\n",
    "    visited[closest] = True\n",
    "    city = closest\n",
    "    tsp.append(int(city))\n",
    "logging.debug(\n",
    "    f\"step: {cities.at[tsp[-1],'name']} -> {cities.at[tsp[0],'name']} ({dist_matrix[tsp[-1],tsp[0]]:.2f}km)\"\n",
    ")\n",
    "tsp.append(tsp[0])\n",
    "\n",
    "tot_cost = 0\n",
    "for c1, c2 in zip(tsp, tsp[1:]):\n",
    "    tot_cost += dist_matrix[c1, c2]\n",
    "logging.info(f\"result: Found a path of {len(tsp)-1} steps, total length {tot_cost:.2f}km\")"
   ]
  },
  {
   "cell_type": "code",
   "execution_count": null,
   "metadata": {},
   "outputs": [],
   "source": []
  }
 ],
 "metadata": {
  "kernelspec": {
   "display_name": "ci-ZxkYKcJo-py3.12",
   "language": "python",
   "name": "python3"
  },
  "language_info": {
   "codemirror_mode": {
    "name": "ipython",
    "version": 3
   },
   "file_extension": ".py",
   "mimetype": "text/x-python",
   "name": "python",
   "nbconvert_exporter": "python",
   "pygments_lexer": "ipython3",
   "version": "3.12.7"
  }
 },
 "nbformat": 4,
 "nbformat_minor": 2
}
