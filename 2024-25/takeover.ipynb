{
 "cells": [
  {
   "cell_type": "markdown",
   "metadata": {},
   "source": [
    "Copyright **`(c)`** 2024 Giovanni Squillero `<giovanni.squillero@polito.it>`  \n",
    "[`https://github.com/squillero/computational-intelligence`](https://github.com/squillero/computational-intelligence)  \n",
    "Free under certain conditions — see the [`license`](https://github.com/squillero/computational-intelligence/blob/master/LICENSE.md) for details.  "
   ]
  },
  {
   "cell_type": "code",
   "execution_count": 70,
   "metadata": {},
   "outputs": [],
   "source": [
    "import random\n",
    "import numpy as np\n",
    "from scipy.stats import bootstrap\n",
    "from icecream import ic"
   ]
  },
  {
   "cell_type": "code",
   "execution_count": 131,
   "metadata": {},
   "outputs": [],
   "source": [
    "def roulette_wheel(population: np.ndarray) -> np.ndarray:\n",
    "    return np.random.choice(np.arange(population.shape[0]), size=1, p=population / population.sum())\n",
    "\n",
    "\n",
    "def tournament_selection(population: np.ndarray, tournament_size=2) -> np.ndarray:\n",
    "    ic(np.where(population == np.random.choice(population, size=2).max()))\n",
    "    return np.where(population == np.random.choice(population, size=2).max())[0]"
   ]
  },
  {
   "cell_type": "code",
   "execution_count": 132,
   "metadata": {},
   "outputs": [],
   "source": [
    "def takeover_time(population, selector, num_samples=1):\n",
    "    samples = list()\n",
    "    for bs in range(num_samples):\n",
    "        pop = population.copy()\n",
    "        steps = 0\n",
    "        while not np.all(pop == pop[0]):\n",
    "            steps += 1\n",
    "            selected = selector(pop)\n",
    "            pop[selected] = pop[0]\n",
    "        # ic(pop)\n",
    "        samples.append(steps)\n",
    "    return np.average(samples)"
   ]
  },
  {
   "cell_type": "code",
   "execution_count": 133,
   "metadata": {},
   "outputs": [
    {
     "name": "stderr",
     "output_type": "stream",
     "text": [
      "ic| np.where(population == np.random.choice(population, size=2).max()): (array([49]),)\n",
      "ic| np.where(population == np.random.choice(population, size=2).max()): (array([8]),)\n",
      "ic| np.where(population == np.random.choice(population, size=2).max()): (array([44]),)\n",
      "ic| np.where(population == np.random.choice(population, size=2).max()): (array([29]),)\n",
      "ic| np.where(population == np.random.choice(population, size=2).max()): (array([10]),)\n",
      "ic| np.where(population == np.random.choice(population, size=2).max()): (array([27]),)\n",
      "ic| np.where(population == np.random.choice(population, size=2).max()): (array([43]),)\n",
      "ic| np.where(population == np.random.choice(population, size=2).max()): (array([32]),)\n",
      "ic| np.where(population == np.random.choice(population, size=2).max()): (array([12]),)\n",
      "ic| np.where(population == np.random.choice(population, size=2).max()): (array([2]),)\n",
      "ic| np.where(population == np.random.choice(population, size=2).max()): (array([14]),)\n",
      "ic| np.where(population == np.random.choice(population, size=2).max()): (array([10]),)\n",
      "ic| np.where(population == np.random.choice(population, size=2).max()): (array([34]),)\n",
      "ic| np.where(population == np.random.choice(population, size=2).max()): (array([8]),)\n",
      "ic| np.where(population == np.random.choice(population, size=2).max()): (array([8]),)\n",
      "ic| np.where(population == np.random.choice(population, size=2).max()): (array([20]),)\n",
      "ic| np.where(population == np.random.choice(population, size=2).max()): (array([31]),)\n",
      "ic| np.where(population == np.random.choice(population, size=2).max()): (array([ 0,  1,  3,  7,  9, 12, 13, 26, 27, 29, 60, 68, 70, 74, 80]),)\n",
      "ic| np.where(population == np.random.choice(population, size=2).max()): (array([4]),)\n",
      "ic| np.where(population == np.random.choice(population, size=2).max()): (array([45]),)\n",
      "ic| np.where(population == np.random.choice(population, size=2).max()): (array([20]),)\n",
      "ic| np.where(population == np.random.choice(population, size=2).max()): (array([ 0,  1,  3,  7,  9, 12, 13, 14, 26, 27, 29, 36, 50, 60, 68, 70, 74,\n",
      "                                                                               80]),)\n",
      "ic| np.where(population == np.random.choice(population, size=2).max()): (array([31]),)\n",
      "ic| np.where(population == np.random.choice(population, size=2).max()): (array([ 0,  1,  3,  7,  9, 12, 13, 14, 26, 27, 29, 36, 50, 60, 62, 68, 70,\n",
      "                                                                               74, 80]),)\n",
      "ic| np.where(population == np.random.choice(population, size=2).max()): (array([ 0,  1,  2,  3,  7,  9, 12, 13, 14, 26, 27, 29, 36, 50, 60, 62, 68,\n",
      "                                                                               70, 74, 80]),)\n",
      "ic| np.where(population == np.random.choice(population, size=2).max()): (array([33]),)\n",
      "ic| np.where(population == np.random.choice(population, size=2).max()): (array([45]),)\n",
      "ic| np.where(population == np.random.choice(population, size=2).max()): (array([ 0,  1,  2,  3,  7,  9, 12, 13, 14, 26, 27, 29, 36, 44, 50, 60, 62,\n",
      "                                                                               68, 70, 74, 80]),)\n",
      "ic| np.where(population == np.random.choice(population, size=2).max()): (array([10]),)\n",
      "ic| np.where(population == np.random.choice(population, size=2).max()): (array([ 0,  1,  2,  3,  7,  9, 12, 13, 14, 26, 27, 29, 36, 44, 50, 60, 62,\n",
      "                                                                               66, 68, 70, 74, 80]),)\n",
      "ic| np.where(population == np.random.choice(population, size=2).max()): (array([32]),)\n",
      "ic| np.where(population == np.random.choice(population, size=2).max()): (array([ 0,  1,  2,  3,  7,  9, 12, 13, 14, 26, 27, 29, 36, 44, 46, 50, 60,\n",
      "                                                                               62, 66, 68, 70, 74, 80]),)\n",
      "ic| np.where(population == np.random.choice(population, size=2).max()): (array([45]),)\n",
      "ic| np.where(population == np.random.choice(population, size=2).max()): (array([51]),)\n",
      "ic| np.where(population == np.random.choice(population, size=2).max()): (array([25]),)\n",
      "ic| np.where(population == np.random.choice(population, size=2).max()): (array([47]),)\n",
      "ic| np.where(population == np.random.choice(population, size=2).max()): (array([22]),)\n",
      "ic| np.where(population == np.random.choice(population, size=2).max()): (array([ 0,  1,  2,  3,  7,  9, 12, 13, 14, 15, 26, 27, 28, 29, 36, 44, 46,\n",
      "                                                                               50, 58, 60, 62, 66, 68, 70, 74, 80]),)\n",
      "ic| np.where(population == np.random.choice(population, size=2).max()): (array([ 0,  1,  2,  3,  7,  9, 12, 13, 14, 15, 26, 27, 28, 29, 36, 44, 46,\n",
      "                                                                               50, 58, 60, 62, 66, 68, 70, 74, 80]),)\n",
      "ic| np.where(population == np.random.choice(population, size=2).max()): (array([56]),)\n",
      "ic| np.where(population == np.random.choice(population, size=2).max()): (array([17]),)\n",
      "ic| np.where(population == np.random.choice(population, size=2).max()): (array([32]),)\n",
      "ic| np.where(population == np.random.choice(population, size=2).max()): (array([45]),)\n",
      "ic| np.where(population == np.random.choice(population, size=2).max()): (array([ 0,  1,  2,  3,  7,  9, 12, 13, 14, 15, 26, 27, 28, 29, 32, 36, 44,\n",
      "                                                                               46, 50, 55, 58, 60, 62, 66, 68, 70, 74, 75, 80]),)\n",
      "ic| np.where(population == np.random.choice(population, size=2).max()): (array([84]),)\n",
      "ic| np.where(population == np.random.choice(population, size=2).max()): (array([99]),)\n",
      "ic| np.where(population == np.random.choice(population, size=2).max()): (array([ 0,  1,  2,  3,  7,  9, 12, 13, 14, 15, 16, 26, 27,"
     ]
    },
    {
     "ename": "KeyboardInterrupt",
     "evalue": "",
     "output_type": "error",
     "traceback": [
      "\u001b[1;31m---------------------------------------------------------------------------\u001b[0m",
      "\u001b[1;31mKeyboardInterrupt\u001b[0m                         Traceback (most recent call last)",
      "Cell \u001b[1;32mIn[133], line 3\u001b[0m\n\u001b[0;32m      1\u001b[0m population \u001b[38;5;241m=\u001b[39m np\u001b[38;5;241m.\u001b[39mrandom\u001b[38;5;241m.\u001b[39mrand(\u001b[38;5;241m100\u001b[39m) \u001b[38;5;241m*\u001b[39m \u001b[38;5;241m100\u001b[39m\n\u001b[0;32m      2\u001b[0m population[::\u001b[38;5;241m-\u001b[39m\u001b[38;5;241m1\u001b[39m]\u001b[38;5;241m.\u001b[39msort()\n\u001b[1;32m----> 3\u001b[0m ic(\u001b[43mtakeover_time\u001b[49m\u001b[43m(\u001b[49m\u001b[43mpopulation\u001b[49m\u001b[43m,\u001b[49m\u001b[43m \u001b[49m\u001b[43mtournament_selection\u001b[49m\u001b[43m)\u001b[49m)\n\u001b[0;32m      4\u001b[0m ic(takeover_time(population, roulette_wheel))\n\u001b[0;32m      5\u001b[0m \u001b[38;5;28;01mNone\u001b[39;00m\n",
      "Cell \u001b[1;32mIn[132], line 8\u001b[0m, in \u001b[0;36mtakeover_time\u001b[1;34m(population, selector, num_samples)\u001b[0m\n\u001b[0;32m      6\u001b[0m \u001b[38;5;28;01mwhile\u001b[39;00m \u001b[38;5;129;01mnot\u001b[39;00m np\u001b[38;5;241m.\u001b[39mall(pop \u001b[38;5;241m==\u001b[39m pop[\u001b[38;5;241m0\u001b[39m]):\n\u001b[0;32m      7\u001b[0m     steps \u001b[38;5;241m+\u001b[39m\u001b[38;5;241m=\u001b[39m \u001b[38;5;241m1\u001b[39m\n\u001b[1;32m----> 8\u001b[0m     selected \u001b[38;5;241m=\u001b[39m \u001b[43mselector\u001b[49m\u001b[43m(\u001b[49m\u001b[43mpop\u001b[49m\u001b[43m)\u001b[49m\n\u001b[0;32m      9\u001b[0m     pop[selected] \u001b[38;5;241m=\u001b[39m pop[\u001b[38;5;241m0\u001b[39m]\n\u001b[0;32m     10\u001b[0m \u001b[38;5;66;03m# ic(pop)\u001b[39;00m\n",
      "Cell \u001b[1;32mIn[131], line 6\u001b[0m, in \u001b[0;36mtournament_selection\u001b[1;34m(population, tournament_size)\u001b[0m\n\u001b[0;32m      5\u001b[0m \u001b[38;5;28;01mdef\u001b[39;00m \u001b[38;5;21mtournament_selection\u001b[39m(population: np\u001b[38;5;241m.\u001b[39mndarray, tournament_size\u001b[38;5;241m=\u001b[39m\u001b[38;5;241m2\u001b[39m) \u001b[38;5;241m-\u001b[39m\u001b[38;5;241m>\u001b[39m np\u001b[38;5;241m.\u001b[39mndarray:\n\u001b[1;32m----> 6\u001b[0m     \u001b[43mic\u001b[49m\u001b[43m(\u001b[49m\u001b[43mnp\u001b[49m\u001b[38;5;241;43m.\u001b[39;49m\u001b[43mwhere\u001b[49m\u001b[43m(\u001b[49m\u001b[43mpopulation\u001b[49m\u001b[43m \u001b[49m\u001b[38;5;241;43m==\u001b[39;49m\u001b[43m \u001b[49m\u001b[43mnp\u001b[49m\u001b[38;5;241;43m.\u001b[39;49m\u001b[43mrandom\u001b[49m\u001b[38;5;241;43m.\u001b[39;49m\u001b[43mchoice\u001b[49m\u001b[43m(\u001b[49m\u001b[43mpopulation\u001b[49m\u001b[43m,\u001b[49m\u001b[43m \u001b[49m\u001b[43msize\u001b[49m\u001b[38;5;241;43m=\u001b[39;49m\u001b[38;5;241;43m2\u001b[39;49m\u001b[43m)\u001b[49m\u001b[38;5;241;43m.\u001b[39;49m\u001b[43mmax\u001b[49m\u001b[43m(\u001b[49m\u001b[43m)\u001b[49m\u001b[43m)\u001b[49m\u001b[43m)\u001b[49m\n\u001b[0;32m      7\u001b[0m     \u001b[38;5;28;01mreturn\u001b[39;00m np\u001b[38;5;241m.\u001b[39mwhere(population \u001b[38;5;241m==\u001b[39m np\u001b[38;5;241m.\u001b[39mrandom\u001b[38;5;241m.\u001b[39mchoice(population, size\u001b[38;5;241m=\u001b[39m\u001b[38;5;241m2\u001b[39m)\u001b[38;5;241m.\u001b[39mmax())[\u001b[38;5;241m0\u001b[39m]\n",
      "File \u001b[1;32mc:\\Users\\John Nefastis\\AppData\\Local\\pypoetry\\Cache\\virtualenvs\\ci-WEKR9SVn-py3.12\\Lib\\site-packages\\icecream\\icecream.py:212\u001b[0m, in \u001b[0;36mIceCreamDebugger.__call__\u001b[1;34m(self, *args)\u001b[0m\n\u001b[0;32m    210\u001b[0m         prefix \u001b[38;5;241m=\u001b[39m callOrValue(\u001b[38;5;28mself\u001b[39m\u001b[38;5;241m.\u001b[39mprefix)\n\u001b[0;32m    211\u001b[0m         out \u001b[38;5;241m=\u001b[39m prefix \u001b[38;5;241m+\u001b[39m \u001b[38;5;124m'\u001b[39m\u001b[38;5;124mError: \u001b[39m\u001b[38;5;124m'\u001b[39m \u001b[38;5;241m+\u001b[39m err\u001b[38;5;241m.\u001b[39minfoMessage\n\u001b[1;32m--> 212\u001b[0m     \u001b[38;5;28;43mself\u001b[39;49m\u001b[38;5;241;43m.\u001b[39;49m\u001b[43moutputFunction\u001b[49m\u001b[43m(\u001b[49m\u001b[43mout\u001b[49m\u001b[43m)\u001b[49m\n\u001b[0;32m    214\u001b[0m \u001b[38;5;28;01mif\u001b[39;00m \u001b[38;5;129;01mnot\u001b[39;00m args:  \u001b[38;5;66;03m# E.g. ic().\u001b[39;00m\n\u001b[0;32m    215\u001b[0m     passthrough \u001b[38;5;241m=\u001b[39m \u001b[38;5;28;01mNone\u001b[39;00m\n",
      "File \u001b[1;32mc:\\Users\\John Nefastis\\AppData\\Local\\pypoetry\\Cache\\virtualenvs\\ci-WEKR9SVn-py3.12\\Lib\\site-packages\\icecream\\icecream.py:83\u001b[0m, in \u001b[0;36mcolorizedStderrPrint\u001b[1;34m(s)\u001b[0m\n\u001b[0;32m     81\u001b[0m colored \u001b[38;5;241m=\u001b[39m colorize(s)\n\u001b[0;32m     82\u001b[0m \u001b[38;5;28;01mwith\u001b[39;00m supportTerminalColorsInWindows():\n\u001b[1;32m---> 83\u001b[0m     \u001b[43mstderrPrint\u001b[49m\u001b[43m(\u001b[49m\u001b[43mcolored\u001b[49m\u001b[43m)\u001b[49m\n",
      "File \u001b[1;32mc:\\Users\\John Nefastis\\AppData\\Local\\pypoetry\\Cache\\virtualenvs\\ci-WEKR9SVn-py3.12\\Lib\\site-packages\\icecream\\icecream.py:69\u001b[0m, in \u001b[0;36mstderrPrint\u001b[1;34m(*args)\u001b[0m\n\u001b[0;32m     68\u001b[0m \u001b[38;5;28;01mdef\u001b[39;00m \u001b[38;5;21mstderrPrint\u001b[39m(\u001b[38;5;241m*\u001b[39margs):\n\u001b[1;32m---> 69\u001b[0m     \u001b[38;5;28;43mprint\u001b[39;49m\u001b[43m(\u001b[49m\u001b[38;5;241;43m*\u001b[39;49m\u001b[43margs\u001b[49m\u001b[43m,\u001b[49m\u001b[43m \u001b[49m\u001b[43mfile\u001b[49m\u001b[38;5;241;43m=\u001b[39;49m\u001b[43msys\u001b[49m\u001b[38;5;241;43m.\u001b[39;49m\u001b[43mstderr\u001b[49m\u001b[43m)\u001b[49m\n",
      "File \u001b[1;32mc:\\Users\\John Nefastis\\AppData\\Local\\pypoetry\\Cache\\virtualenvs\\ci-WEKR9SVn-py3.12\\Lib\\site-packages\\colorama\\ansitowin32.py:47\u001b[0m, in \u001b[0;36mStreamWrapper.write\u001b[1;34m(self, text)\u001b[0m\n\u001b[0;32m     46\u001b[0m \u001b[38;5;28;01mdef\u001b[39;00m \u001b[38;5;21mwrite\u001b[39m(\u001b[38;5;28mself\u001b[39m, text):\n\u001b[1;32m---> 47\u001b[0m     \u001b[38;5;28;43mself\u001b[39;49m\u001b[38;5;241;43m.\u001b[39;49m\u001b[43m__convertor\u001b[49m\u001b[38;5;241;43m.\u001b[39;49m\u001b[43mwrite\u001b[49m\u001b[43m(\u001b[49m\u001b[43mtext\u001b[49m\u001b[43m)\u001b[49m\n",
      "File \u001b[1;32mc:\\Users\\John Nefastis\\AppData\\Local\\pypoetry\\Cache\\virtualenvs\\ci-WEKR9SVn-py3.12\\Lib\\site-packages\\colorama\\ansitowin32.py:177\u001b[0m, in \u001b[0;36mAnsiToWin32.write\u001b[1;34m(self, text)\u001b[0m\n\u001b[0;32m    175\u001b[0m \u001b[38;5;28;01mdef\u001b[39;00m \u001b[38;5;21mwrite\u001b[39m(\u001b[38;5;28mself\u001b[39m, text):\n\u001b[0;32m    176\u001b[0m     \u001b[38;5;28;01mif\u001b[39;00m \u001b[38;5;28mself\u001b[39m\u001b[38;5;241m.\u001b[39mstrip \u001b[38;5;129;01mor\u001b[39;00m \u001b[38;5;28mself\u001b[39m\u001b[38;5;241m.\u001b[39mconvert:\n\u001b[1;32m--> 177\u001b[0m         \u001b[38;5;28;43mself\u001b[39;49m\u001b[38;5;241;43m.\u001b[39;49m\u001b[43mwrite_and_convert\u001b[49m\u001b[43m(\u001b[49m\u001b[43mtext\u001b[49m\u001b[43m)\u001b[49m\n\u001b[0;32m    178\u001b[0m     \u001b[38;5;28;01melse\u001b[39;00m:\n\u001b[0;32m    179\u001b[0m         \u001b[38;5;28mself\u001b[39m\u001b[38;5;241m.\u001b[39mwrapped\u001b[38;5;241m.\u001b[39mwrite(text)\n",
      "File \u001b[1;32mc:\\Users\\John Nefastis\\AppData\\Local\\pypoetry\\Cache\\virtualenvs\\ci-WEKR9SVn-py3.12\\Lib\\site-packages\\colorama\\ansitowin32.py:202\u001b[0m, in \u001b[0;36mAnsiToWin32.write_and_convert\u001b[1;34m(self, text)\u001b[0m\n\u001b[0;32m    200\u001b[0m \u001b[38;5;28;01mfor\u001b[39;00m match \u001b[38;5;129;01min\u001b[39;00m \u001b[38;5;28mself\u001b[39m\u001b[38;5;241m.\u001b[39mANSI_CSI_RE\u001b[38;5;241m.\u001b[39mfinditer(text):\n\u001b[0;32m    201\u001b[0m     start, end \u001b[38;5;241m=\u001b[39m match\u001b[38;5;241m.\u001b[39mspan()\n\u001b[1;32m--> 202\u001b[0m     \u001b[38;5;28;43mself\u001b[39;49m\u001b[38;5;241;43m.\u001b[39;49m\u001b[43mwrite_plain_text\u001b[49m\u001b[43m(\u001b[49m\u001b[43mtext\u001b[49m\u001b[43m,\u001b[49m\u001b[43m \u001b[49m\u001b[43mcursor\u001b[49m\u001b[43m,\u001b[49m\u001b[43m \u001b[49m\u001b[43mstart\u001b[49m\u001b[43m)\u001b[49m\n\u001b[0;32m    203\u001b[0m     \u001b[38;5;28mself\u001b[39m\u001b[38;5;241m.\u001b[39mconvert_ansi(\u001b[38;5;241m*\u001b[39mmatch\u001b[38;5;241m.\u001b[39mgroups())\n\u001b[0;32m    204\u001b[0m     cursor \u001b[38;5;241m=\u001b[39m end\n",
      "File \u001b[1;32mc:\\Users\\John Nefastis\\AppData\\Local\\pypoetry\\Cache\\virtualenvs\\ci-WEKR9SVn-py3.12\\Lib\\site-packages\\colorama\\ansitowin32.py:211\u001b[0m, in \u001b[0;36mAnsiToWin32.write_plain_text\u001b[1;34m(self, text, start, end)\u001b[0m\n\u001b[0;32m    209\u001b[0m \u001b[38;5;28;01mif\u001b[39;00m start \u001b[38;5;241m<\u001b[39m end:\n\u001b[0;32m    210\u001b[0m     \u001b[38;5;28mself\u001b[39m\u001b[38;5;241m.\u001b[39mwrapped\u001b[38;5;241m.\u001b[39mwrite(text[start:end])\n\u001b[1;32m--> 211\u001b[0m     \u001b[38;5;28;43mself\u001b[39;49m\u001b[38;5;241;43m.\u001b[39;49m\u001b[43mwrapped\u001b[49m\u001b[38;5;241;43m.\u001b[39;49m\u001b[43mflush\u001b[49m\u001b[43m(\u001b[49m\u001b[43m)\u001b[49m\n",
      "File \u001b[1;32mc:\\Users\\John Nefastis\\AppData\\Local\\pypoetry\\Cache\\virtualenvs\\ci-WEKR9SVn-py3.12\\Lib\\site-packages\\ipykernel\\iostream.py:609\u001b[0m, in \u001b[0;36mOutStream.flush\u001b[1;34m(self)\u001b[0m\n\u001b[0;32m    607\u001b[0m     \u001b[38;5;28mself\u001b[39m\u001b[38;5;241m.\u001b[39mpub_thread\u001b[38;5;241m.\u001b[39mschedule(evt\u001b[38;5;241m.\u001b[39mset)\n\u001b[0;32m    608\u001b[0m     \u001b[38;5;66;03m# and give a timeout to avoid\u001b[39;00m\n\u001b[1;32m--> 609\u001b[0m     \u001b[38;5;28;01mif\u001b[39;00m \u001b[38;5;129;01mnot\u001b[39;00m \u001b[43mevt\u001b[49m\u001b[38;5;241;43m.\u001b[39;49m\u001b[43mwait\u001b[49m\u001b[43m(\u001b[49m\u001b[38;5;28;43mself\u001b[39;49m\u001b[38;5;241;43m.\u001b[39;49m\u001b[43mflush_timeout\u001b[49m\u001b[43m)\u001b[49m:\n\u001b[0;32m    610\u001b[0m         \u001b[38;5;66;03m# write directly to __stderr__ instead of warning because\u001b[39;00m\n\u001b[0;32m    611\u001b[0m         \u001b[38;5;66;03m# if this is happening sys.stderr may be the problem.\u001b[39;00m\n\u001b[0;32m    612\u001b[0m         \u001b[38;5;28mprint\u001b[39m(\u001b[38;5;124m\"\u001b[39m\u001b[38;5;124mIOStream.flush timed out\u001b[39m\u001b[38;5;124m\"\u001b[39m, file\u001b[38;5;241m=\u001b[39msys\u001b[38;5;241m.\u001b[39m__stderr__)\n\u001b[0;32m    613\u001b[0m \u001b[38;5;28;01melse\u001b[39;00m:\n",
      "File \u001b[1;32mC:\\Program Files\\Python312\\Lib\\threading.py:655\u001b[0m, in \u001b[0;36mEvent.wait\u001b[1;34m(self, timeout)\u001b[0m\n\u001b[0;32m    653\u001b[0m signaled \u001b[38;5;241m=\u001b[39m \u001b[38;5;28mself\u001b[39m\u001b[38;5;241m.\u001b[39m_flag\n\u001b[0;32m    654\u001b[0m \u001b[38;5;28;01mif\u001b[39;00m \u001b[38;5;129;01mnot\u001b[39;00m signaled:\n\u001b[1;32m--> 655\u001b[0m     signaled \u001b[38;5;241m=\u001b[39m \u001b[38;5;28;43mself\u001b[39;49m\u001b[38;5;241;43m.\u001b[39;49m\u001b[43m_cond\u001b[49m\u001b[38;5;241;43m.\u001b[39;49m\u001b[43mwait\u001b[49m\u001b[43m(\u001b[49m\u001b[43mtimeout\u001b[49m\u001b[43m)\u001b[49m\n\u001b[0;32m    656\u001b[0m \u001b[38;5;28;01mreturn\u001b[39;00m signaled\n",
      "File \u001b[1;32mC:\\Program Files\\Python312\\Lib\\threading.py:359\u001b[0m, in \u001b[0;36mCondition.wait\u001b[1;34m(self, timeout)\u001b[0m\n\u001b[0;32m    357\u001b[0m \u001b[38;5;28;01melse\u001b[39;00m:\n\u001b[0;32m    358\u001b[0m     \u001b[38;5;28;01mif\u001b[39;00m timeout \u001b[38;5;241m>\u001b[39m \u001b[38;5;241m0\u001b[39m:\n\u001b[1;32m--> 359\u001b[0m         gotit \u001b[38;5;241m=\u001b[39m \u001b[43mwaiter\u001b[49m\u001b[38;5;241;43m.\u001b[39;49m\u001b[43macquire\u001b[49m\u001b[43m(\u001b[49m\u001b[38;5;28;43;01mTrue\u001b[39;49;00m\u001b[43m,\u001b[49m\u001b[43m \u001b[49m\u001b[43mtimeout\u001b[49m\u001b[43m)\u001b[49m\n\u001b[0;32m    360\u001b[0m     \u001b[38;5;28;01melse\u001b[39;00m:\n\u001b[0;32m    361\u001b[0m         gotit \u001b[38;5;241m=\u001b[39m waiter\u001b[38;5;241m.\u001b[39macquire(\u001b[38;5;28;01mFalse\u001b[39;00m)\n",
      "\u001b[1;31mKeyboardInterrupt\u001b[0m: "
     ]
    }
   ],
   "source": [
    "population = np.random.rand(100) * 100\n",
    "population[::-1].sort()\n",
    "ic(takeover_time(population, tournament_selection))\n",
    "ic(takeover_time(population, roulette_wheel))\n",
    "None"
   ]
  },
  {
   "cell_type": "code",
   "execution_count": 130,
   "metadata": {},
   "outputs": [
    {
     "name": "stderr",
     "output_type": "stream",
     "text": [
      "ic| takeover_time(population, tournament_selection, num_samples=10): np.float64(14470.4)\n",
      "ic| takeover_time(population, roulette_wheel, num_samples=10): np.float64(496.5)\n"
     ]
    }
   ],
   "source": [
    "population = np.random.rand(100) * 100\n",
    "population += 10_000_000\n",
    "population[::-1].sort()\n",
    "ic(takeover_time(population, tournament_selection, num_samples=10))\n",
    "ic(takeover_time(population, roulette_wheel, num_samples=10))\n",
    "None"
   ]
  },
  {
   "cell_type": "code",
   "execution_count": null,
   "metadata": {},
   "outputs": [],
   "source": []
  }
 ],
 "metadata": {
  "kernelspec": {
   "display_name": "ci-WEKR9SVn-py3.12",
   "language": "python",
   "name": "python3"
  },
  "language_info": {
   "codemirror_mode": {
    "name": "ipython",
    "version": 3
   },
   "file_extension": ".py",
   "mimetype": "text/x-python",
   "name": "python",
   "nbconvert_exporter": "python",
   "pygments_lexer": "ipython3",
   "version": "3.12.7"
  }
 },
 "nbformat": 4,
 "nbformat_minor": 2
}
