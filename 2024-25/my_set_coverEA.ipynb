{
 "cells": [
  {
   "cell_type": "markdown",
   "metadata": {},
   "source": [
    "Copyright **`(c)`** 2024 Giovanni Squillero `<giovanni.squillero@polito.it>`  \n",
    "[`https://github.com/squillero/computational-intelligence`](https://github.com/squillero/computational-intelligence)  \n",
    "Free for personal or classroom use; see [`LICENSE.md`](https://github.com/squillero/computational-intelligence/blob/master/LICENSE.md) for details.  "
   ]
  },
  {
   "cell_type": "markdown",
   "metadata": {},
   "source": [
    "# Set Cover problem\n",
    "\n",
    "See: https://en.wikipedia.org/wiki/Set_cover_problem"
   ]
  },
  {
   "cell_type": "code",
   "execution_count": 61,
   "metadata": {},
   "outputs": [],
   "source": [
    "import functools\n",
    "from dataclasses import dataclass \n",
    "import numpy as np\n",
    "\n",
    "from tqdm.auto import tqdm\n",
    "from icecream import ic"
   ]
  },
  {
   "cell_type": "markdown",
   "metadata": {},
   "source": [
    "## Reproducible Initialization\n",
    "\n",
    "If you want to get reproducible results, use `rng` (and restart the kernel); for non-reproducible ones, use `np.random`."
   ]
  },
  {
   "cell_type": "code",
   "execution_count": 62,
   "metadata": {},
   "outputs": [],
   "source": [
    "UNIVERSE_SIZE = 100\n",
    "NUM_SETS = 10\n",
    "DENSITY = 0.2"
   ]
  },
  {
   "cell_type": "code",
   "execution_count": 63,
   "metadata": {},
   "outputs": [],
   "source": [
    "# DON'T EDIT THESE LINES!\n",
    "\n",
    "rng = np.random.Generator(np.random.PCG64([UNIVERSE_SIZE, NUM_SETS, int(10_000 * DENSITY)]))\n",
    "\n",
    "SETS = np.random.random((NUM_SETS, UNIVERSE_SIZE)) < DENSITY\n",
    "for s in range(UNIVERSE_SIZE):\n",
    "    if not np.any(SETS[:, s]):\n",
    "        SETS[np.random.randint(NUM_SETS), s] = True\n",
    "COSTS = np.pow(SETS.sum(axis=1), 1.1)\n",
    "\n",
    "\n",
    "def counter(fn):\n",
    "    \"\"\"Simple decorator for counting number of calls\"\"\"\n",
    "\n",
    "    @functools.wraps(fn)\n",
    "    def helper(*args, **kargs):\n",
    "        helper.calls += 1\n",
    "        return fn(*args, **kargs)\n",
    "\n",
    "    helper.calls = 0\n",
    "    return helper\n",
    "\n",
    "\n",
    "@counter\n",
    "def cost(solution):\n",
    "    \"\"\"Returns the cost of a solution (to be minimized) tracking number of calls\"\"\"\n",
    "    return COSTS[solution].sum()"
   ]
  },
  {
   "cell_type": "markdown",
   "metadata": {},
   "source": [
    "# Squillero's greedy solution"
   ]
  },
  {
   "cell_type": "markdown",
   "metadata": {},
   "source": [
    "## Helper Functions"
   ]
  },
  {
   "cell_type": "code",
   "execution_count": 64,
   "metadata": {},
   "outputs": [],
   "source": [
    "def valid(solution):\n",
    "    \"\"\"Checks wether solution is valid (ie. covers all universe)\"\"\"\n",
    "    return np.all(np.logical_or.reduce(SETS[solution]))\n",
    "\n",
    "\n",
    "def num_covered(solution):\n",
    "    \"\"\"Checks wether solution is valid (ie. covers all universe)\"\"\"\n",
    "    return np.sum(np.logical_or.reduce(SETS[solution]))\n",
    "\n",
    "@dataclass\n",
    "class Individual:\n",
    "    genome : np.ndarray\n",
    "    fitness : float = None\n",
    "\n",
    "def fitness(Individual):\n",
    "    \"\"\"Returns the cost of a solution (to be minimized) tracking number of calls\"\"\"\n",
    "    return int(num_covered(Individual.genome)), -float(cost(Individual.genome))\n",
    "\n",
    "def parent_selection(population):\n",
    "    candidates = sorted(np.random.choice(population, 2), key=lambda e: e.fitness , reverse=True)\n",
    "    return candidates[0]\n",
    "\n",
    "def xover(p1: Individual, p2: Individual):\n",
    "    m = np.random.rand(NUM_SETS) < 0.5\n",
    "    genome = p1.genome.copy()\n",
    "    genome[m]=p2.genome[m]\n",
    "    o = Individual(genome)\n",
    "   # ic(p1, p2, m, o)\n",
    "    return o\n",
    "\n",
    "def mutation(p : Individual):\n",
    "    genome = p.genome.copy()\n",
    "    x = 0\n",
    "    while x < 0.1 :\n",
    "            \n",
    "        index = np.random.randint(NUM_SETS)\n",
    "        genome[index] = not genome[index]\n",
    "        x = np.random.random()\n",
    "    return Individual(genome)"
   ]
  },
  {
   "cell_type": "markdown",
   "metadata": {},
   "source": [
    "## Have Fun!"
   ]
  },
  {
   "cell_type": "code",
   "execution_count": 65,
   "metadata": {},
   "outputs": [],
   "source": [
    "POPULATION_SIZE = 10\n",
    "population = [Individual(np.random.rand(NUM_SETS) < 0.5) for i in range(POPULATION_SIZE)]\n",
    "for i in population:\n",
    "    i.fitness = fitness(i)\n",
    "\n",
    "OFFSPRING_SIZE = 4 #need steady state approach cause size < population size\n",
    "\n",
    "MAX_GENERATIONS = 100\n",
    "\n",
    "for g in range(MAX_GENERATIONS):\n",
    "    offspring = list()\n",
    "    for _ in range(OFFSPRING_SIZE):\n",
    "        if np.random.random() < .3:\n",
    "            #mutation\n",
    "            parent = parent_selection(population)\n",
    "            o = mutation(parent)\n",
    "        else :\n",
    "            #recombination\n",
    "            i1 = parent_selection(population)\n",
    "            i2 = parent_selection(population)\n",
    "            o = xover(i1, i2)\n",
    "        offspring.append(o)\n",
    "\n",
    "    for i in offspring:\n",
    "        i.fitness = fitness(i) #only looking at the fitness of the offspring not of the paretns, static approach\n",
    "\n",
    "population.extend(offspring)\n",
    "population.sort(key=lambda e: e.fitness, reverse=True)\n",
    "population = population[:POPULATION_SIZE]    "
   ]
  },
  {
   "cell_type": "code",
   "execution_count": 66,
   "metadata": {},
   "outputs": [
    {
     "ename": "AttributeError",
     "evalue": "'tuple' object has no attribute 'genome'",
     "output_type": "error",
     "traceback": [
      "\u001b[1;31m---------------------------------------------------------------------------\u001b[0m",
      "\u001b[1;31mAttributeError\u001b[0m                            Traceback (most recent call last)",
      "Cell \u001b[1;32mIn[66], line 1\u001b[0m\n\u001b[1;32m----> 1\u001b[0m ic(\u001b[43mmutation\u001b[49m\u001b[43m(\u001b[49m\u001b[43mpopulation\u001b[49m\u001b[43m[\u001b[49m\u001b[38;5;241;43m0\u001b[39;49m\u001b[43m]\u001b[49m\u001b[38;5;241;43m.\u001b[39;49m\u001b[43mfitness\u001b[49m\u001b[43m)\u001b[49m, cost\u001b[38;5;241m.\u001b[39mcalls)\n",
      "Cell \u001b[1;32mIn[64], line 31\u001b[0m, in \u001b[0;36mmutation\u001b[1;34m(p)\u001b[0m\n\u001b[0;32m     30\u001b[0m \u001b[38;5;28;01mdef\u001b[39;00m \u001b[38;5;21mmutation\u001b[39m(p : Individual):\n\u001b[1;32m---> 31\u001b[0m     genome \u001b[38;5;241m=\u001b[39m \u001b[43mp\u001b[49m\u001b[38;5;241;43m.\u001b[39;49m\u001b[43mgenome\u001b[49m\u001b[38;5;241m.\u001b[39mcopy()\n\u001b[0;32m     32\u001b[0m     x \u001b[38;5;241m=\u001b[39m \u001b[38;5;241m0\u001b[39m\n\u001b[0;32m     33\u001b[0m     \u001b[38;5;28;01mwhile\u001b[39;00m x \u001b[38;5;241m<\u001b[39m \u001b[38;5;241m0.1\u001b[39m :\n",
      "\u001b[1;31mAttributeError\u001b[0m: 'tuple' object has no attribute 'genome'"
     ]
    }
   ],
   "source": [
    "ic(mutation(population[0].fitness), cost.calls)"
   ]
  }
 ],
 "metadata": {
  "kernelspec": {
   "display_name": "venv",
   "language": "python",
   "name": "python3"
  },
  "language_info": {
   "codemirror_mode": {
    "name": "ipython",
    "version": 3
   },
   "file_extension": ".py",
   "mimetype": "text/x-python",
   "name": "python",
   "nbconvert_exporter": "python",
   "pygments_lexer": "ipython3",
   "version": "3.12.7"
  }
 },
 "nbformat": 4,
 "nbformat_minor": 4
}
