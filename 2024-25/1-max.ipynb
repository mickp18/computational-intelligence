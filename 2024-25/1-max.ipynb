{
 "cells": [
  {
   "cell_type": "markdown",
   "metadata": {},
   "source": [
    "Copyright **`(c)`** 2024 Giovanni Squillero `<squillero@polito.it>`  \n",
    "`https://github.com/squillero/computational-intelligence`  \n",
    "Free for personal or classroom use; see 'LICENCE.md' for details."
   ]
  },
  {
   "cell_type": "code",
   "execution_count": 1,
   "metadata": {},
   "outputs": [],
   "source": [
    "import random\n",
    "from icecream import ic"
   ]
  },
  {
   "cell_type": "code",
   "execution_count": 8,
   "metadata": {},
   "outputs": [],
   "source": [
    "PROBLEM_SIZE = 100"
   ]
  },
  {
   "cell_type": "code",
   "execution_count": 9,
   "metadata": {},
   "outputs": [],
   "source": [
    "def quality(solution):\n",
    "    return max(sum(solution), PROBLEM_SIZE-sum(solution))\n",
    "\n",
    "\n",
    "def tweak(solution):\n",
    "    new_solution = solution[:]\n",
    "    pos = random.randrange(PROBLEM_SIZE)\n",
    "    new_solution[pos] = 1 - new_solution[pos]\n",
    "    return new_solution"
   ]
  },
  {
   "cell_type": "code",
   "execution_count": 10,
   "metadata": {},
   "outputs": [
    {
     "name": "stderr",
     "output_type": "stream",
     "text": [
      "ic| quality(initial_solution): 53\n"
     ]
    }
   ],
   "source": [
    "initial_solution = [random.randint(0, 1) for _ in range(PROBLEM_SIZE)]\n",
    "ic(quality(initial_solution))\n",
    "None"
   ]
  },
  {
   "cell_type": "code",
   "execution_count": 11,
   "metadata": {},
   "outputs": [
    {
     "name": "stderr",
     "output_type": "stream",
     "text": [
      "ic| steps: 0, quality(current_solution): 53\n",
      "ic| steps: 502, quality(current_solution): 100\n"
     ]
    }
   ],
   "source": [
    "current_solution = initial_solution\n",
    "steps = 0\n",
    "ic(steps, quality(current_solution))\n",
    "while quality(current_solution) < PROBLEM_SIZE:\n",
    "    steps += 1\n",
    "    solution = tweak(current_solution)\n",
    "    if quality(solution) > quality(current_solution):\n",
    "        current_solution = solution\n",
    "ic(steps, quality(current_solution))\n",
    "None"
   ]
  },
  {
   "cell_type": "code",
   "execution_count": 13,
   "metadata": {},
   "outputs": [
    {
     "name": "stderr",
     "output_type": "stream",
     "text": [
      "ic| current_solution[0]: 0\n"
     ]
    },
    {
     "data": {
      "text/plain": [
       "0"
      ]
     },
     "execution_count": 13,
     "metadata": {},
     "output_type": "execute_result"
    }
   ],
   "source": [
    "ic(current_solution[0])"
   ]
  },
  {
   "cell_type": "code",
   "execution_count": 14,
   "metadata": {},
   "outputs": [
    {
     "name": "stderr",
     "output_type": "stream",
     "text": [
      "ic| steps: 0, quality(current_solution): 53\n",
      "ic| steps: 640, quality(current_solution): 100\n"
     ]
    }
   ],
   "source": [
    "current_solution = initial_solution\n",
    "steps = 0\n",
    "ic(steps, quality(current_solution))\n",
    "while quality(current_solution) < PROBLEM_SIZE:\n",
    "    temp = current_solution[:]\n",
    "    best_so_far = current_solution[:]\n",
    "    for inner_step in range(10):\n",
    "        steps += 1\n",
    "        solution = tweak(current_solution)\n",
    "        if quality(solution) > quality(best_so_far):\n",
    "            best_so_far = solution\n",
    "            # temp = solution\n",
    "    if quality(best_so_far) > quality(current_solution):\n",
    "        current_solution = best_so_far\n",
    "ic(steps, quality(current_solution))\n",
    "None"
   ]
  },
  {
   "cell_type": "code",
   "execution_count": 15,
   "metadata": {},
   "outputs": [
    {
     "name": "stderr",
     "output_type": "stream",
     "text": [
      "ic| current_solution[0]: 0\n"
     ]
    },
    {
     "data": {
      "text/plain": [
       "0"
      ]
     },
     "execution_count": 15,
     "metadata": {},
     "output_type": "execute_result"
    }
   ],
   "source": [
    "ic(current_solution[0])"
   ]
  },
  {
   "cell_type": "code",
   "execution_count": null,
   "metadata": {},
   "outputs": [],
   "source": []
  }
 ],
 "metadata": {
  "kernelspec": {
   "display_name": "ci-WEKR9SVn-py3.12",
   "language": "python",
   "name": "python3"
  },
  "language_info": {
   "codemirror_mode": {
    "name": "ipython",
    "version": 3
   },
   "file_extension": ".py",
   "mimetype": "text/x-python",
   "name": "python",
   "nbconvert_exporter": "python",
   "pygments_lexer": "ipython3",
   "version": "3.12.6"
  }
 },
 "nbformat": 4,
 "nbformat_minor": 2
}
