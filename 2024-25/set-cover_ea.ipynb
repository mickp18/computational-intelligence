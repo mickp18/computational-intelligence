{
 "cells": [
  {
   "cell_type": "markdown",
   "metadata": {},
   "source": [
    "Copyright **`(c)`** 2024 Giovanni Squillero `<giovanni.squillero@polito.it>`  \n",
    "[`https://github.com/squillero/computational-intelligence`](https://github.com/squillero/computational-intelligence)  \n",
    "Free for personal or classroom use; see [`LICENSE.md`](https://github.com/squillero/computational-intelligence/blob/master/LICENSE.md) for details.  "
   ]
  },
  {
   "cell_type": "markdown",
   "metadata": {},
   "source": [
    "# Set Cover problem\n",
    "\n",
    "See: https://en.wikipedia.org/wiki/Set_cover_problem"
   ]
  },
  {
   "cell_type": "code",
   "execution_count": 28,
   "metadata": {},
   "outputs": [],
   "source": [
    "import functools\n",
    "from dataclasses import dataclass\n",
    "\n",
    "\n",
    "\n",
    "import numpy as np\n",
    "\n",
    "\n",
    "\n",
    "from tqdm.auto import tqdm\n",
    "\n",
    "\n",
    "\n",
    "from icecream import ic"
   ]
  },
  {
   "cell_type": "markdown",
   "metadata": {},
   "source": [
    "## Reproducible Initialization\n",
    "\n",
    "If you want to get reproducible results, use `rng` (and restart the kernel); for non-reproducible ones, use `np.random`."
   ]
  },
  {
   "cell_type": "code",
   "execution_count": 6,
   "metadata": {},
   "outputs": [],
   "source": [
    "UNIVERSE_SIZE = 10\n",
    "NUM_SETS = 5\n",
    "DENSITY = 0.3"
   ]
  },
  {
   "cell_type": "code",
   "execution_count": 7,
   "metadata": {},
   "outputs": [],
   "source": [
    "# DON'T EDIT THESE LINES!\n",
    "\n",
    "rng = np.random.Generator(np.random.PCG64([UNIVERSE_SIZE, NUM_SETS, int(10_000 * DENSITY)]))\n",
    "\n",
    "SETS = np.random.random((NUM_SETS, UNIVERSE_SIZE)) < DENSITY\n",
    "for s in range(UNIVERSE_SIZE):\n",
    "    if not np.any(SETS[:, s]):\n",
    "        SETS[np.random.randint(NUM_SETS), s] = True\n",
    "COSTS = np.pow(SETS.sum(axis=1), 1.1)\n",
    "\n",
    "\n",
    "def counter(fn):\n",
    "    \"\"\"Simple decorator for counting number of calls\"\"\"\n",
    "\n",
    "    @functools.wraps(fn)\n",
    "    def helper(*args, **kargs):\n",
    "        helper.calls += 1\n",
    "        return fn(*args, **kargs)\n",
    "\n",
    "    helper.calls = 0\n",
    "    return helper\n",
    "\n",
    "\n",
    "@counter\n",
    "def cost(solution):\n",
    "    \"\"\"Returns the cost of a solution (to be minimized) tracking number of calls\"\"\"\n",
    "    return COSTS[solution].sum()"
   ]
  },
  {
   "cell_type": "markdown",
   "metadata": {},
   "source": [
    "# Squillero's EA"
   ]
  },
  {
   "cell_type": "markdown",
   "metadata": {},
   "source": [
    "## Helper Functions"
   ]
  },
  {
   "cell_type": "code",
   "execution_count": 80,
   "metadata": {},
   "outputs": [],
   "source": [
    "def valid(solution):\n",
    "    \"\"\"Checks wether solution is valid (ie. covers all universe)\"\"\"\n",
    "    return np.all(np.logical_or.reduce(SETS[solution]))\n",
    "\n",
    "\n",
    "def num_covered(solution):\n",
    "    \"\"\"Checks wether solution is valid (ie. covers all universe)\"\"\"\n",
    "    return np.sum(np.logical_or.reduce(SETS[solution]))\n",
    "\n",
    "\n",
    "@dataclass\n",
    "class Individual:\n",
    "    genome: np.ndarray\n",
    "    fitness: float = None\n",
    "\n",
    "\n",
    "def fitness(individual):\n",
    "    return int(num_covered(individual.genome)), -float(cost(individual.genome))\n",
    "\n",
    "\n",
    "def parent_selection(population):\n",
    "    candidates = sorted(np.random.choice(population, 2), key=lambda e: e.fitness, reverse=True)\n",
    "    return candidates[0]\n",
    "\n",
    "\n",
    "def xover(p1: Individual, p2: Individual):\n",
    "    m = np.random.rand(NUM_SETS) < 0.5\n",
    "    genome = p1.genome.copy()\n",
    "    genome[m] = p2.genome[m]\n",
    "    return Individual(genome)"
   ]
  },
  {
   "cell_type": "markdown",
   "metadata": {},
   "source": [
    "## Have Fun!"
   ]
  },
  {
   "cell_type": "code",
   "execution_count": 81,
   "metadata": {},
   "outputs": [],
   "source": [
    "POPULATION_SIZE = 10\n",
    "population = [Individual(np.random.rand(NUM_SETS) < 0.5) for _ in range(POPULATION_SIZE)]\n",
    "for i in population:\n",
    "    i.fitness = fitness(i)\n",
    "\n",
    "OFFSPRING_SIZE = 4\n",
    "\n",
    "offspring = list()\n",
    "for _ in range(OFFSPRING_SIZE):\n",
    "    i1 = parent_selection(population)\n",
    "    i2 = parent_selection(population)\n",
    "    o = xover(i1, i2)\n",
    "    offspring.append(o)\n",
    "\n",
    "for i in offspring:\n",
    "    i.fitness = fitness(i)\n",
    "\n",
    "population.extend(offspring)\n",
    "population.sort(key=lambda i: i.fitness, reverse=True)\n",
    "population = population[:POPULATION_SIZE]"
   ]
  },
  {
   "cell_type": "code",
   "execution_count": 82,
   "metadata": {},
   "outputs": [
    {
     "data": {
      "text/plain": [
       "[Individual(genome=array([False,  True,  True,  True, False]), fitness=(10, -12.611435060500822)),\n",
       " Individual(genome=array([False,  True,  True,  True,  True]), fitness=(10, -15.959804582602537)),\n",
       " Individual(genome=array([False,  True,  True, False,  True]), fitness=(8, -10.08670986716244)),\n",
       " Individual(genome=array([ True, False, False,  True, False]), fitness=(7, -9.22146423754181)),\n",
       " Individual(genome=array([False,  True,  True, False, False]), fitness=(6, -6.738340345060727)),\n",
       " Individual(genome=array([False,  True, False, False,  True]), fitness=(6, -7.943162942089854)),\n",
       " Individual(genome=array([False,  True, False, False,  True]), fitness=(6, -7.943162942089854)),\n",
       " Individual(genome=array([False,  True, False, False,  True]), fitness=(6, -7.943162942089854)),\n",
       " Individual(genome=array([False, False, False,  True,  True]), fitness=(6, -9.22146423754181)),\n",
       " Individual(genome=array([False, False, False,  True,  True]), fitness=(6, -9.22146423754181))]"
      ]
     },
     "execution_count": 82,
     "metadata": {},
     "output_type": "execute_result"
    }
   ],
   "source": [
    "population"
   ]
  },
  {
   "cell_type": "code",
   "execution_count": 70,
   "metadata": {},
   "outputs": [
    {
     "data": {
      "text/plain": [
       "[Individual(genome=array([ True, False, False, False, False]), fitness=np.float64(-3.348369522101714)),\n",
       " Individual(genome=array([ True, False, False, False, False]), fitness=np.float64(-3.348369522101714)),\n",
       " Individual(genome=array([False, False, False, False, False]), fitness=np.float64(-0.0)),\n",
       " Individual(genome=array([ True, False,  True, False, False]), fitness=np.float64(-5.4919164471743))]"
      ]
     },
     "execution_count": 70,
     "metadata": {},
     "output_type": "execute_result"
    }
   ],
   "source": [
    "offspring"
   ]
  },
  {
   "cell_type": "code",
   "execution_count": 23,
   "metadata": {},
   "outputs": [
    {
     "data": {
      "text/plain": [
       "np.float64(-14.71338068471611)"
      ]
     },
     "execution_count": 23,
     "metadata": {},
     "output_type": "execute_result"
    }
   ],
   "source": [
    "fitness(population[0])"
   ]
  },
  {
   "cell_type": "code",
   "execution_count": 61,
   "metadata": {},
   "outputs": [
    {
     "data": {
      "text/plain": [
       "array([False,  True, False, False, False])"
      ]
     },
     "execution_count": 61,
     "metadata": {},
     "output_type": "execute_result"
    }
   ],
   "source": [
    "population[0].genome"
   ]
  },
  {
   "cell_type": "code",
   "execution_count": 64,
   "metadata": {},
   "outputs": [],
   "source": [
    "population[0].genome[np.array([False, True, False, False, False])] = False"
   ]
  },
  {
   "cell_type": "code",
   "execution_count": 65,
   "metadata": {},
   "outputs": [
    {
     "data": {
      "text/plain": [
       "array([False, False, False, False, False])"
      ]
     },
     "execution_count": 65,
     "metadata": {},
     "output_type": "execute_result"
    }
   ],
   "source": [
    "population[0].genome"
   ]
  },
  {
   "cell_type": "code",
   "execution_count": null,
   "metadata": {},
   "outputs": [],
   "source": []
  }
 ],
 "metadata": {
  "kernelspec": {
   "display_name": "ci-WEKR9SVn-py3.12",
   "language": "python",
   "name": "python3"
  },
  "language_info": {
   "codemirror_mode": {
    "name": "ipython",
    "version": 3
   },
   "file_extension": ".py",
   "mimetype": "text/x-python",
   "name": "python",
   "nbconvert_exporter": "python",
   "pygments_lexer": "ipython3",
   "version": "3.12.7"
  }
 },
 "nbformat": 4,
 "nbformat_minor": 4
}
