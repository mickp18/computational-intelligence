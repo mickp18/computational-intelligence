{
 "cells": [
  {
   "cell_type": "markdown",
   "metadata": {
    "vscode": {
     "languageId": "plaintext"
    }
   },
   "source": [
    "Copyright **`(c)`** 2024 Giovanni Squillero `<giovanni.squillero@polito.it>`  \n",
    "[`https://github.com/squillero/computational-intelligence`](https://github.com/squillero/computational-intelligence)  \n",
    "Free under certain conditions — see the [`license`](https://github.com/squillero/computational-intelligence/blob/master/LICENSE.md) for details.  "
   ]
  },
  {
   "cell_type": "code",
   "execution_count": 1,
   "metadata": {},
   "outputs": [],
   "source": [
    "from random import randint\n",
    "from icecream import ic"
   ]
  },
  {
   "cell_type": "code",
   "execution_count": 8,
   "metadata": {},
   "outputs": [],
   "source": [
    "PROBLEM_SIZE = 4\n",
    "NUMBERS = [randint(1, 10) for _ in range(PROBLEM_SIZE)]\n",
    "NUMBERS = [10, 5, 3, 7]\n",
    "GOAL = 15"
   ]
  },
  {
   "cell_type": "code",
   "execution_count": 9,
   "metadata": {},
   "outputs": [
    {
     "data": {
      "text/plain": [
       "[10, 5, 3, 7]"
      ]
     },
     "execution_count": 9,
     "metadata": {},
     "output_type": "execute_result"
    }
   ],
   "source": [
    "NUMBERS"
   ]
  },
  {
   "cell_type": "code",
   "execution_count": null,
   "metadata": {},
   "outputs": [
    {
     "data": {
      "text/plain": [
       "[5, 3, 7]"
      ]
     },
     "execution_count": 12,
     "metadata": {},
     "output_type": "execute_result"
    }
   ],
   "source": [
    "fronteer = [[False] * PROBLEM_SIZE]\n",
    "\n",
    "state = fronteer.pop()\n",
    "while sum(NUMBERS[n] for n in range(PROBLEM_SIZE) if state[n]) != GOAL:\n",
    "    valid_actions = [n for n in range(PROBLEM_SIZE) if not state[n]]\n",
    "    for a in valid_actions:\n",
    "        new_state = state[:]\n",
    "        new_state[a] = True\n",
    "        fronteer.append(new_state)\n",
    "    state = fronteer.pop()\n",
    "[NUMBERS[i] for i in range(PROBLEM_SIZE) if state[i]]"
   ]
  },
  {
   "cell_type": "code",
   "execution_count": 13,
   "metadata": {},
   "outputs": [
    {
     "data": {
      "text/plain": [
       "[10, 5]"
      ]
     },
     "execution_count": 13,
     "metadata": {},
     "output_type": "execute_result"
    }
   ],
   "source": [
    "fronteer = [[False] * PROBLEM_SIZE]\n",
    "\n",
    "state = fronteer.pop(0)\n",
    "while sum(NUMBERS[n] for n in range(PROBLEM_SIZE) if state[n]) != GOAL:\n",
    "    valid_actions = [n for n in range(PROBLEM_SIZE) if not state[n]]\n",
    "    for a in valid_actions:\n",
    "        new_state = state[:]\n",
    "        new_state[a] = True\n",
    "        fronteer.append(new_state)\n",
    "    state = fronteer.pop(0)\n",
    "[NUMBERS[i] for i in range(PROBLEM_SIZE) if state[i]]"
   ]
  },
  {
   "cell_type": "code",
   "execution_count": null,
   "metadata": {},
   "outputs": [],
   "source": []
  }
 ],
 "metadata": {
  "kernelspec": {
   "display_name": "ci-WEKR9SVn-py3.12",
   "language": "python",
   "name": "python3"
  },
  "language_info": {
   "codemirror_mode": {
    "name": "ipython",
    "version": 3
   },
   "file_extension": ".py",
   "mimetype": "text/x-python",
   "name": "python",
   "nbconvert_exporter": "python",
   "pygments_lexer": "ipython3",
   "version": "3.12.7"
  }
 },
 "nbformat": 4,
 "nbformat_minor": 2
}
