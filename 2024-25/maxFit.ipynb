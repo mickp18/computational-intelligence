{
 "cells": [
  {
   "cell_type": "code",
   "execution_count": 24,
   "metadata": {},
   "outputs": [],
   "source": [
    "import random\n",
    "from icecream import ic"
   ]
  },
  {
   "cell_type": "code",
   "execution_count": 25,
   "metadata": {},
   "outputs": [],
   "source": [
    "PROBLEM_SIZE = 8"
   ]
  },
  {
   "cell_type": "code",
   "execution_count": 26,
   "metadata": {},
   "outputs": [],
   "source": [
    "def quality(solution):\n",
    "    return sum(solution)\n",
    "\n",
    "\n",
    "def tweak(solution):\n",
    "    new_solution = solution[:] #need to make a copy of solution to not change original\n",
    "\n",
    "    pos = random.randrange(0,PROBLEM_SIZE) #takes random index from 0 to PROBLEM_SIZE\n",
    "    new_solution[pos]= 1 - new_solution[pos]\n",
    "\n",
    "    return new_solution"
   ]
  },
  {
   "cell_type": "code",
   "execution_count": 27,
   "metadata": {},
   "outputs": [
    {
     "data": {
      "text/plain": [
       "[1, 0, 0, 0, 1, 1, 1, 0]"
      ]
     },
     "execution_count": 27,
     "metadata": {},
     "output_type": "execute_result"
    }
   ],
   "source": [
    "initial_solution = [random.randint(0,1) for _ in range(PROBLEM_SIZE)]\n",
    "initial_solution"
   ]
  },
  {
   "cell_type": "code",
   "execution_count": 28,
   "metadata": {},
   "outputs": [
    {
     "data": {
      "text/plain": [
       "4"
      ]
     },
     "execution_count": 28,
     "metadata": {},
     "output_type": "execute_result"
    }
   ],
   "source": [
    "quality(initial_solution)"
   ]
  },
  {
   "cell_type": "code",
   "execution_count": 29,
   "metadata": {},
   "outputs": [
    {
     "name": "stderr",
     "output_type": "stream",
     "text": [
      "ic| steps: 0, current_solution: [1, 0, 0, 0, 1, 1, 1, 0]\n",
      "ic| steps: 1, solution: [1, 0, 1, 0, 1, 1, 1, 0]\n",
      "ic| steps: 2, solution: [1, 0, 1, 1, 1, 1, 1, 0]\n",
      "ic| steps: 3, solution: [1, 0, 1, 1, 1, 1, 1, 1]\n",
      "ic| steps: 19, solution: [1, 1, 1, 1, 1, 1, 1, 1]\n",
      "ic| steps: 19, current_solution: [1, 1, 1, 1, 1, 1, 1, 1]\n"
     ]
    },
    {
     "data": {
      "text/plain": [
       "(19, [1, 1, 1, 1, 1, 1, 1, 1])"
      ]
     },
     "execution_count": 29,
     "metadata": {},
     "output_type": "execute_result"
    }
   ],
   "source": [
    "current_solution = initial_solution\n",
    "steps = 0\n",
    "ic(steps, current_solution)\n",
    "while quality(current_solution) < PROBLEM_SIZE:\n",
    "    steps += 1\n",
    "    solution = tweak(current_solution)\n",
    "    if quality(solution) > quality(current_solution):\n",
    "        current_solution = solution\n",
    "        ic(steps,solution)\n",
    "\n",
    "ic(steps, current_solution)"
   ]
  },
  {
   "cell_type": "code",
   "execution_count": 31,
   "metadata": {},
   "outputs": [
    {
     "name": "stderr",
     "output_type": "stream",
     "text": [
      "ic| steps: 0, current_solution: [1, 0, 0, 0, 1, 1, 1, 0]\n",
      "ic| steps: 2, temp: [1, 0, 0, 1, 1, 1, 1, 0]\n",
      "ic| steps: 19, solution: [1, 0, 0, 0, 1, 1, 0, 0]\n",
      "ic| steps: 20, temp: [1, 1, 0, 1, 1, 1, 1, 0]\n",
      "ic| steps: 38, solution: [1, 0, 0, 0, 1, 1, 1, 0]\n",
      "ic| steps: 41, temp: [1, 1, 0, 1, 1, 1, 1, 1]\n",
      "ic| steps: 57, solution: [1, 1, 0, 1, 0, 1, 1, 0]\n",
      "ic| steps: 65, temp: [1, 1, 1, 1, 1, 1, 1, 1]\n",
      "ic| steps: 76, solution: [1, 1, 0, 0, 1, 1, 1, 1]\n",
      "ic| steps: 76, current_solution: [1, 1, 1, 1, 1, 1, 1, 1]\n"
     ]
    },
    {
     "data": {
      "text/plain": [
       "(76, [1, 1, 1, 1, 1, 1, 1, 1])"
      ]
     },
     "execution_count": 31,
     "metadata": {},
     "output_type": "execute_result"
    }
   ],
   "source": [
    "#try with steepest climnb\n",
    "\n",
    "current_solution = initial_solution\n",
    "steps = 0\n",
    "ic(steps, current_solution)\n",
    "while quality(current_solution) < PROBLEM_SIZE:\n",
    "    temp = current_solution[:]\n",
    "    for inner_step in range(19):\n",
    "        steps += 1\n",
    "        solution = tweak(current_solution)\n",
    "        if quality(solution) > quality(temp):\n",
    "                temp = solution\n",
    "                ic(steps,temp)\n",
    "\n",
    "    if quality(temp) > quality(current_solution):\n",
    "            current_solution = temp\n",
    "            ic(steps,solution)\n",
    "\n",
    "ic(steps, current_solution)"
   ]
  }
 ],
 "metadata": {
  "kernelspec": {
   "display_name": "venv",
   "language": "python",
   "name": "python3"
  },
  "language_info": {
   "codemirror_mode": {
    "name": "ipython",
    "version": 3
   },
   "file_extension": ".py",
   "mimetype": "text/x-python",
   "name": "python",
   "nbconvert_exporter": "python",
   "pygments_lexer": "ipython3",
   "version": "3.12.6"
  }
 },
 "nbformat": 4,
 "nbformat_minor": 2
}
