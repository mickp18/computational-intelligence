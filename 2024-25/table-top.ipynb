{
 "cells": [
  {
   "cell_type": "markdown",
   "metadata": {},
   "source": [
    "Copyright **`(c)`** 2024 Giovanni Squillero `<giovanni.squillero@polito.it>`  \n",
    "[`https://github.com/squillero/computational-intelligence`](https://github.com/squillero/computational-intelligence)  \n",
    "Free under certain conditions — see the [`license`](https://github.com/squillero/computational-intelligence/blob/master/LICENSE.md) for details.  "
   ]
  },
  {
   "cell_type": "code",
   "execution_count": 11,
   "metadata": {},
   "outputs": [],
   "source": [
    "from random import choice"
   ]
  },
  {
   "cell_type": "code",
   "execution_count": 12,
   "metadata": {},
   "outputs": [],
   "source": [
    "def print_table():\n",
    "    global TABLE\n",
    "    t2 = [p for p in TABLE if p]\n",
    "    max_height = max(len(p) for p in t2)\n",
    "    dim_block = max(max(len(e) for e in l) for l in t2)\n",
    "    printout = list()\n",
    "    for p in TABLE:\n",
    "        tmp = p + [\" \" * dim_block] * (max_height - len(p))\n",
    "        printout.append(tmp[::-1])\n",
    "    for line in zip(*printout):\n",
    "        print(\"    \".join(f\"{{:{dim_block}s}}\".format(b) for b in line))\n",
    "    print(\"    \".join(f\"{{:{dim_block}d}}\".format(i) for i in range(len(TABLE))))"
   ]
  },
  {
   "cell_type": "code",
   "execution_count": null,
   "metadata": {},
   "outputs": [],
   "source": [
    "TAG = \">\"\n",
    "TABU = list()\n",
    "\n",
    "TABLE = None\n",
    "HAND = None\n",
    "\n",
    "\n",
    "def find_pile_of(block):\n",
    "    return next(i for i, p in enumerate(TABLE) if block in p)\n",
    "\n",
    "\n",
    "def find_pile_tabu():\n",
    "    acceptable_piles = [i for i, p in enumerate(TABLE) if all(t not in p for t in TABU)]\n",
    "    if not acceptable_piles:\n",
    "        return -1\n",
    "    else:\n",
    "        return choice(acceptable_piles)\n",
    "\n",
    "\n",
    "def on_top(block):\n",
    "    return TABLE[find_pile_of(block)][-1] == block\n",
    "\n",
    "\n",
    "def put_on(block1, block2, depth=1):\n",
    "    global TABU\n",
    "    TABU = [block1, block2]\n",
    "    print(TAG * depth + \" \" + f\"Putting '{block1}' on '{block2}'\")\n",
    "    if not on_top(block1):\n",
    "        clear_above(block1, depth=depth + 1)\n",
    "    if not on_top(block2):\n",
    "        clear_above(block2, depth=depth + 1)\n",
    "    grasp(block1, depth=depth + 1)\n",
    "    drop_on_pile(find_pile_of(block2), depth=depth + 1)\n",
    "\n",
    "\n",
    "def drop_on_pile(pile, depth=1):\n",
    "    global HAND\n",
    "    assert HAND is not None\n",
    "    if pile < 0:\n",
    "        pile = len(TABLE)\n",
    "        TABLE.append([])\n",
    "    print(TAG * depth + \" \" + f\"Dropping block '{HAND}' on pile {pile}\")\n",
    "    TABLE[pile].append(HAND)\n",
    "    HAND = None\n",
    "\n",
    "\n",
    "def grasp(block, depth=1):\n",
    "    global HAND\n",
    "    assert HAND is None\n",
    "    print(TAG * depth + \" \" + f\"Grasping block '{block}'\")\n",
    "    pile = find_pile_of(block)\n",
    "    if not on_top(block):\n",
    "        clear_above(block, depth=depth + 1)\n",
    "    assert TABLE[pile].pop() == block\n",
    "    HAND = block\n",
    "\n",
    "\n",
    "def clear_above(block, depth=1):\n",
    "    print(TAG * depth + \" \" + f\"Clearing above block '{block}'\")\n",
    "    pile = find_pile_of(block)\n",
    "    while TABLE[pile][-1] != block:\n",
    "        tmp = TABLE[pile][-1]\n",
    "        grasp(tmp, depth=depth + 1)\n",
    "        drop_on_pile(find_pile_tabu(), depth=depth + 1)"
   ]
  },
  {
   "cell_type": "code",
   "execution_count": 14,
   "metadata": {},
   "outputs": [
    {
     "name": "stdout",
     "output_type": "stream",
     "text": [
      "            C4      \n",
      "      B3    C3    D3\n",
      "A2    B2    C2    D2\n",
      "A1    B1    C1    D1\n",
      " 0     1     2     3\n"
     ]
    }
   ],
   "source": [
    "TABLE = list()\n",
    "TABLE.append([\"A1\", \"A2\"])\n",
    "TABLE.append([\"B1\", \"B2\", \"B3\"])\n",
    "TABLE.append([\"C1\", \"C2\", \"C3\", \"C4\"])\n",
    "TABLE.append([\"D1\", \"D2\", \"D3\"])\n",
    "print_table()"
   ]
  },
  {
   "cell_type": "code",
   "execution_count": 15,
   "metadata": {},
   "outputs": [
    {
     "name": "stdout",
     "output_type": "stream",
     "text": [
      "> Putting 'C1' on 'A2'\n",
      ">> Clearing above block 'C1'\n",
      ">>> Grasping block 'C4'\n",
      ">>> Dropping block 'C4' on pile 3\n",
      ">>> Grasping block 'C3'\n",
      ">>> Dropping block 'C3' on pile 3\n",
      ">>> Grasping block 'C2'\n",
      ">>> Dropping block 'C2' on pile 1\n",
      ">> Grasping block 'C1'\n",
      ">> Dropping block 'C1' on pile 0\n",
      "                  C3\n",
      "      C2          C4\n",
      "C1    B3          D3\n",
      "A2    B2          D2\n",
      "A1    B1          D1\n",
      " 0     1     2     3\n"
     ]
    }
   ],
   "source": [
    "put_on('C1', 'A2')\n",
    "print_table()"
   ]
  },
  {
   "cell_type": "code",
   "execution_count": 16,
   "metadata": {},
   "outputs": [
    {
     "name": "stdout",
     "output_type": "stream",
     "text": [
      "> Putting 'D1' on 'B1'\n",
      ">> Clearing above block 'D1'\n",
      ">>> Grasping block 'C3'\n",
      ">>> Dropping block 'C3' on pile 2\n",
      ">>> Grasping block 'C4'\n",
      ">>> Dropping block 'C4' on pile 2\n",
      ">>> Grasping block 'D3'\n",
      ">>> Dropping block 'D3' on pile 0\n",
      ">>> Grasping block 'D2'\n",
      ">>> Dropping block 'D2' on pile 0\n",
      ">> Clearing above block 'B1'\n",
      ">>> Grasping block 'C2'\n",
      ">>> Dropping block 'C2' on pile 0\n",
      ">>> Grasping block 'B3'\n",
      ">>> Dropping block 'B3' on pile 0\n",
      ">>> Grasping block 'B2'\n",
      ">>> Dropping block 'B2' on pile 2\n",
      ">> Grasping block 'D1'\n",
      ">> Dropping block 'D1' on pile 1\n",
      "B3                  \n",
      "C2                  \n",
      "D2                  \n",
      "D3                  \n",
      "C1          B2      \n",
      "A2    D1    C4      \n",
      "A1    B1    C3      \n",
      " 0     1     2     3\n"
     ]
    }
   ],
   "source": [
    "put_on('D1', 'B1')\n",
    "print_table()"
   ]
  },
  {
   "cell_type": "code",
   "execution_count": null,
   "metadata": {},
   "outputs": [],
   "source": []
  }
 ],
 "metadata": {
  "kernelspec": {
   "display_name": "ci-ZxkYKcJo-py3.12",
   "language": "python",
   "name": "python3"
  },
  "language_info": {
   "codemirror_mode": {
    "name": "ipython",
    "version": 3
   },
   "file_extension": ".py",
   "mimetype": "text/x-python",
   "name": "python",
   "nbconvert_exporter": "python",
   "pygments_lexer": "ipython3",
   "version": "3.12.7"
  },
  "orig_nbformat": 4
 },
 "nbformat": 4,
 "nbformat_minor": 2
}
