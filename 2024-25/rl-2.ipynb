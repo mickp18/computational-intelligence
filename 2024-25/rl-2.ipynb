{
 "cells": [
  {
   "cell_type": "markdown",
   "metadata": {
    "vscode": {
     "languageId": "plaintext"
    }
   },
   "source": [
    "Copyright **`(c)`** 2024 Giovanni Squillero `<giovanni.squillero@polito.it>`  \n",
    "[`https://github.com/squillero/computational-intelligence`](https://github.com/squillero/computational-intelligence)  \n",
    "Free under certain conditions — see the [`license`](https://github.com/squillero/computational-intelligence/blob/master/LICENSE.md) for details.  "
   ]
  },
  {
   "cell_type": "code",
   "execution_count": 76,
   "metadata": {},
   "outputs": [],
   "source": [
    "from tqdm.auto import tqdm\n",
    "from icecream import ic"
   ]
  },
  {
   "cell_type": "code",
   "execution_count": 78,
   "metadata": {},
   "outputs": [],
   "source": [
    "LENGTH = 10\n",
    "\n",
    "STATES = tuple(range(LENGTH))\n",
    "ACTIONS = {s: {-1, +1} for s in range(1, LENGTH - 1)}\n",
    "ACTIONS[0] = {}\n",
    "ACTIONS[LENGTH-1] = {}\n",
    "REWARD = {(s, a): -1 for s in STATES for a in ACTIONS[s]}\n",
    "REWARD[1, -1] = 7\n",
    "REWARD[LENGTH - 2, 1] = 15"
   ]
  },
  {
   "cell_type": "code",
   "execution_count": 79,
   "metadata": {},
   "outputs": [],
   "source": [
    "# Random policy\n",
    "def random_policy(s):\n",
    "    available_actions = ACTIONS[s]\n",
    "    return {(1 / len(available_actions), a) for a in ACTIONS[s]}\n",
    "\n",
    "\n",
    "# Greedy policy\n",
    "def create_greedy_policy(value):\n",
    "    policy = dict()\n",
    "    for s in STATES:\n",
    "        if s == 0 or s == LENGTH - 1:\n",
    "            policy[s] = {}\n",
    "        elif REWARD[s, -1] + value[s - 1] > REWARD[s, +1] + value[s + 1]:\n",
    "            policy[s] = {(1, -1)}\n",
    "        elif REWARD[s, -1] + value[s - 1] < REWARD[s, +1] + value[s + 1]:\n",
    "            policy[s] = {(1, 1)}\n",
    "        else:\n",
    "            policy[s] = {(0.5, -1), (0.5, 1)}\n",
    "    return policy"
   ]
  },
  {
   "cell_type": "code",
   "execution_count": 83,
   "metadata": {},
   "outputs": [
    {
     "data": {
      "application/vnd.jupyter.widget-view+json": {
       "model_id": "61a41c8a14a04d0a8d2187fe40218c89",
       "version_major": 2,
       "version_minor": 0
      },
      "text/plain": [
       "  0%|          | 0/20 [00:00<?, ?it/s]"
      ]
     },
     "metadata": {},
     "output_type": "display_data"
    },
    {
     "name": "stderr",
     "output_type": "stream",
     "text": [
      "ic| max(abs(value[s]-new_value[s]) for s in STATES"
     ]
    },
    {
     "name": "stderr",
     "output_type": "stream",
     "text": [
      "): 7.0\n",
      "ic| max(abs(value[s]-new_value[s]) for s in STATES): 3.0\n",
      "ic| max(abs(value[s]-new_value[s]) for s in STATES): 1.5\n",
      "ic| max(abs(value[s]-new_value[s]) for s in STATES): 1.25\n",
      "ic| max(abs(value[s]-new_value[s]) for s in STATES): 0.6875\n",
      "ic| max(abs(value[s]-new_value[s]) for s in STATES): 0.65625\n",
      "ic| max(abs(value[s]-new_value[s]) for s in STATES): 0.53125\n",
      "ic| max(abs(value[s]-new_value[s]) for s in STATES): 0.5078125\n",
      "ic| max(abs(value[s]-new_value[s]) for s in STATES): 0.4375\n",
      "ic| max(abs(value[s]-new_value[s]) for s in STATES): 0.40625\n",
      "ic| max(abs(value[s]-new_value[s]) for s in STATES): 0.37109375\n",
      "ic| max(abs(value[s]-new_value[s]) for s in STATES): 0.333984375\n",
      "ic| max(abs(value[s]-new_value[s]) for s in STATES): 0.319580078125\n",
      "ic| max(abs(value[s]-new_value[s]) for s in STATES): 0.2803955078125\n",
      "ic| max(abs(value[s]-new_value[s]) for s in STATES): 0.27764892578125\n",
      "ic| max(abs(value[s]-new_value[s]) for s in STATES): 0.24603271484375\n",
      "ic| max(abs(value[s]-new_value[s]) for s in STATES): 0.2425537109375\n",
      "ic| max(abs(value[s]-new_value[s]) for s in STATES): 0.219207763671875\n",
      "ic| max(abs(value[s]-new_value[s]) for s in STATES): 0.21265792846679688\n",
      "ic| max(abs(value[s]-new_value[s]) for s in STATES): 0.1947193145751953\n"
     ]
    }
   ],
   "source": [
    "value = {s: 0 for s in STATES}\n",
    "\n",
    "for i in tqdm(range(20)):\n",
    "    new_value = dict()\n",
    "    for s in STATES:\n",
    "        new_value[s] = 0\n",
    "        for p, a in random_policy(s):\n",
    "            new_value[s] += p * (REWARD[s, a] + value[s + a])\n",
    "    ic(max(abs(value[s]-new_value[s]) for s in STATES))\n",
    "    value = dict(new_value)"
   ]
  },
  {
   "cell_type": "code",
   "execution_count": 81,
   "metadata": {},
   "outputs": [
    {
     "data": {
      "application/vnd.jupyter.widget-view+json": {
       "model_id": "504bc176a93049a189e6eef70bb6bbc8",
       "version_major": 2,
       "version_minor": 0
      },
      "text/plain": [
       "  0%|          | 0/10 [00:00<?, ?it/s]"
      ]
     },
     "metadata": {},
     "output_type": "display_data"
    },
    {
     "name": "stderr",
     "output_type": "stream",
     "text": [
      "ic| max(abs(value["
     ]
    },
    {
     "name": "stderr",
     "output_type": "stream",
     "text": [
      "s]-new_value[s]) for s in STATES): 15\n",
      "ic| max(abs(value[s]-new_value[s]) for s in STATES): 15.0\n",
      "ic| max(abs(value[s]-new_value[s]) for s in STATES): 15.0\n",
      "ic| max(abs(value[s]-new_value[s]) for s in STATES): 15.0\n",
      "ic| max(abs(value[s]-new_value[s]) for s in STATES): 7\n",
      "ic| max(abs(value[s]-new_value[s]) for s in STATES): 5\n",
      "ic| max(abs(value[s]-new_value[s]) for s in STATES): 3\n",
      "ic| max(abs(value[s]-new_value[s]) for s in STATES): 1\n",
      "ic| max(abs(value[s]-new_value[s]) for s in STATES): 0\n",
      "ic| max(abs(value[s]-new_value[s]) for s in STATES): 0\n"
     ]
    }
   ],
   "source": [
    "value = {s: 0 for s in STATES}\n",
    "\n",
    "for i in tqdm(range(10)):\n",
    "    policy = create_greedy_policy(value)\n",
    "    new_value = dict()\n",
    "    for s in STATES:\n",
    "        new_value[s] = 0\n",
    "        for p, a in policy[s]:\n",
    "            new_value[s] += p * (REWARD[s, a] + value[s + a])\n",
    "    ic(max(abs(value[s]-new_value[s]) for s in STATES))\n",
    "    value = dict(new_value)"
   ]
  },
  {
   "cell_type": "code",
   "execution_count": null,
   "metadata": {},
   "outputs": [
    {
     "data": {
      "text/plain": [
       "{0: 0,\n",
       " 1: 33,\n",
       " 2: 34,\n",
       " 3: 35,\n",
       " 4: 36,\n",
       " 5: 37,\n",
       " 6: 38,\n",
       " 7: 39,\n",
       " 8: 40,\n",
       " 9: 41,\n",
       " 10: 42,\n",
       " 11: 43,\n",
       " 12: 44,\n",
       " 13: 45,\n",
       " 14: 46,\n",
       " 15: 47,\n",
       " 16: 48,\n",
       " 17: 49,\n",
       " 18: 50,\n",
       " 19: 0}"
      ]
     },
     "execution_count": 74,
     "metadata": {},
     "output_type": "execute_result"
    }
   ],
   "source": [
    "value = {s: 0 for s in STATES}\n",
    "\n",
    "for i in tqdm(range(100)):\n",
    "    policy = create_greedy_policy(value)\n",
    "    value = dict()\n",
    "    for s in STATES:\n",
    "        value[s] = 0\n",
    "        for p, a in policy[s]:\n",
    "            value[s] += p * (REWARD[s, a] + value[s + a])"
   ]
  },
  {
   "cell_type": "code",
   "execution_count": null,
   "metadata": {},
   "outputs": [],
   "source": []
  }
 ],
 "metadata": {
  "kernelspec": {
   "display_name": "ci-WEKR9SVn-py3.12",
   "language": "python",
   "name": "python3"
  },
  "language_info": {
   "codemirror_mode": {
    "name": "ipython",
    "version": 3
   },
   "file_extension": ".py",
   "mimetype": "text/x-python",
   "name": "python",
   "nbconvert_exporter": "python",
   "pygments_lexer": "ipython3",
   "version": "3.12.8"
  }
 },
 "nbformat": 4,
 "nbformat_minor": 2
}
